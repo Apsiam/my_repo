{
 "cells": [
  {
   "cell_type": "markdown",
   "metadata": {},
   "source": [
    "# VERSION ETUDIANTS \n",
    "# TP MASI Corrélation et Convolution : du signal à l'image\n",
    "\n",
    "\n",
    "Le but de ce TP est de manipuler un peu les notions théoriques liées à la corrélation et à la convolution que nous avons vues en cours, pour un signal 1D pour commencer, et ensuite pour une image 2D. Attention, ici on va travailler sur la convolution et la corrélation non pas sous la forme analogique, mais sous en numérique.\n"
   ]
  },
  {
   "cell_type": "code",
   "execution_count": null,
   "metadata": {},
   "outputs": [],
   "source": [
    "### Les imports ###\n",
    "\n",
    "import numpy as np\n",
    "import scipy as sp\n",
    "from scipy import signal\n",
    "import skimage as sk\n",
    "import skimage.io\n",
    "import matplotlib.pyplot as plt\n",
    "# Matplotlib in inline mode\n",
    "%matplotlib inline"
   ]
  },
  {
   "cell_type": "markdown",
   "metadata": {},
   "source": [
    "# Partie 1 : avec des fonctions toutes faites"
   ]
  },
  {
   "cell_type": "markdown",
   "metadata": {},
   "source": [
    "Ci-dessous, vous trouverez deux signaux : x et y"
   ]
  },
  {
   "cell_type": "code",
   "execution_count": null,
   "metadata": {},
   "outputs": [],
   "source": [
    "####################### defining time vector  #######################\n",
    "tmax = 15 # max time (in sec)\n",
    "tmin = 0 # min time (does not mean anything but has to be defined)\n",
    "fe = 250 # sampling frequency (in Hz)\n",
    "Te = 1/fe # sampling period (fe points per second)\n",
    "t = np.arange(tmin,tmax,Te)\n",
    "#####################################################################\n",
    "\n",
    "# Let's define two signals\n",
    "x = sp.signal.chirp(t, 0.25, t.max(), 2)\n",
    "y = np.exp(-t)\n",
    "\n",
    "\n",
    "plt.figure(figsize=(15,5))\n",
    "plt.subplot(121)\n",
    "plt.plot(t,x,label=r'$x(t)$')\n",
    "plt.xlim(t.min(),t.max())\n",
    "plt.ylim(ymax=1.25)\n",
    "plt.legend(loc='upper right')\n",
    "plt.subplot(122)\n",
    "plt.plot(t,y,label=r'$y(t)$')\n",
    "plt.xlim(t.min(),t.max())\n",
    "plt.ylim(ymax=1.25)\n",
    "plt.legend(loc='upper right')\n",
    "plt.legend(loc='upper right')\n",
    "plt.show()"
   ]
  },
  {
   "cell_type": "markdown",
   "metadata": {},
   "source": [
    "## A vous de jouer !\n",
    "\n",
    "<font color=\"blue\"> Quelle est la relation entre corrélation et convolution ?</font>\n",
    "\n",
    "\n",
    "Jouez avec les fonctions toutes faites sp.signal.correlate et sp.signal.convolve, appliquées aux signaux x et y définis juste au dessus"
   ]
  },
  {
   "cell_type": "markdown",
   "metadata": {},
   "source": [
    "#### La corrélation déjà..."
   ]
  },
  {
   "cell_type": "code",
   "execution_count": null,
   "metadata": {},
   "outputs": [],
   "source": [
    "t_corr = np.arange(-tmax+Te,tmax,Te)\n",
    "G_xy = #... A compléter\n",
    "plt.plot(t_corr,G_xy,label=r'$\\Gamma_{xy}(\\tau)$')\n",
    "plt.xlim(t_corr.min(),t_corr.max())\n",
    "plt.legend(loc='best',fontsize=14)\n",
    "plt.show()"
   ]
  },
  {
   "cell_type": "markdown",
   "metadata": {},
   "source": [
    "#### ...puis la convolution..."
   ]
  },
  {
   "cell_type": "code",
   "execution_count": 1,
   "metadata": {},
   "outputs": [
    {
     "ename": "SyntaxError",
     "evalue": "invalid syntax (3344334950.py, line 1)",
     "output_type": "error",
     "traceback": [
      "\u001b[0;36m  Input \u001b[0;32mIn [1]\u001b[0;36m\u001b[0m\n\u001b[0;31m    Conv_xy = #... A compléter\u001b[0m\n\u001b[0m              ^\u001b[0m\n\u001b[0;31mSyntaxError\u001b[0m\u001b[0;31m:\u001b[0m invalid syntax\n"
     ]
    }
   ],
   "source": [
    "Conv_xy = #... A compléter\n",
    "plt.plot(t_corr,Conv_xy,label=r'$(x \\ast y)(\\tau)$')\n",
    "plt.xlim(t_corr.min(),t_corr.max())\n",
    "plt.legend(loc='best',fontsize=14)\n",
    "plt.show()"
   ]
  },
  {
   "cell_type": "markdown",
   "metadata": {},
   "source": [
    "#### ...et enfin : retrouvez la relation entre corrélation et convolution !\n",
    "\n",
    "Indice : vous pouvez regarder la documentation de [`np.flip`](https://numpy.org/doc/stable/reference/generated/numpy.flip.html) ou l'effet de `a[::-1]` pour un array `a` donné"
   ]
  },
  {
   "cell_type": "code",
   "execution_count": null,
   "metadata": {},
   "outputs": [],
   "source": [
    "#... A compléter..."
   ]
  },
  {
   "cell_type": "code",
   "execution_count": null,
   "metadata": {},
   "outputs": [],
   "source": []
  },
  {
   "cell_type": "markdown",
   "metadata": {},
   "source": [
    "# Partie 2 : Application de la corrélation pour trouver l'origine d'un séisme.\n",
    "L'idée est ici de voir comment utiliser la corrélation afin de déterminer l'origine d'un séisme. "
   ]
  },
  {
   "cell_type": "markdown",
   "metadata": {},
   "source": [
    "### Un peu de contexte... \n",
    "Vous êtes des chercheurs du CNRS spécialisés en tremblement de terre. Un tremblement de terre vient de se produire quelque part dans le monde, et vous voulez savoir où. Vous vous connectez donc à vos 3 sondes éparpillées sur la Terre entière afin de récupérer les données des sismographes, et à l'aide de triangulation, déterminer l'origine du séisme en question. \n",
    "\n",
    "Attention, vos sondes ne sont pas toutes de qualité égale, vous recevez des signaux bruts, pensez à regarder les notices de vos sondes pour pouvoir calculer l'heure de réception des ondes !\n",
    "\n",
    "\n",
    "**Sonde 1** : Paris. C'est la sonde la plus performante et précise. Elle enregistre une valeur toutes les 0.5 secondes. De plus, elle est dans un endroit protégé et très peu soumise aux interférences extérieures.\n",
    "\n",
    "**Sonde 2** : Sao Paulo. Cette sonde est moins performante. Elle enregistre une valeur par seconde. Elle n'est pas très bien isolée, Bernardo, le technicien en charge de sa maintenance, avait malheureusement sa fille de 3 ans qui faisait de la corde à sauter avec lui au moment du tremblement de terre...\n",
    "\n",
    "**Sonde 3** : Sidney. C'est la pire des sondes. Elle enregistre une valeur toutes les 2 secondes, et en plus le métro passe juste en dessous, provoquant beaucoup de tremblements parasites.\n",
    "\n",
    "### Bases de sismologie\n",
    "\n",
    "On va considérer 2 types d'ondes : les ondes P (horizontales, les plus rapides) et les ondes S (qui arrivent en 2e). \n",
    "\n",
    "Pour une station, on peut écrire :\n",
    "\n",
    "*Temps d’arrivée de l’onde P* : $t_P = t_0 + (d/v_P)$\n",
    "\n",
    "*Temps d’arrivée de l’onde S* : $t_S = t_0 + (d/v_S)$\n",
    "\n",
    "où $d$ est la distance à l'épicentre, $t_0$ le moment du séisme, $v_P$ la vitesse des ondes $P$ et $v_S$ la vitesse des ondes $S$.\n",
    "\n",
    "Problème : on ne connaît pas $t_0$ car on a uniquement les relevés de nos 3 sondes ! 0n va alors isoler la distance $d$ en faisant la différence entre les deux relations précédentes : $t_S - t_P = d × ( 1/v_S -1/v_P)$.\n",
    "\n",
    "On admettra que $(1/v_S-1/v_P) = 1/8$s/km.\n",
    "\n",
    "Au final, on obtient pour une station l'estimation de la distance à l'épicentre suivante : \n",
    "\n",
    "**$d = 8 × (t_S - t_P)$**\n",
    "\n",
    "$d$ est en km, $t_S - t_P$ en secondes.\n",
    "\n",
    "On a donc uniquement besoin de connaître le temps qui s'est écoulé entre l'arrivée des deux types d'ondes ! Cela nous donne la distance entre l'épicentre et la sonde : l'épicentre se situe sur un cercle de rayon $d$ centré sur la sonde. En faisant ce calcul pour 3 sondes, on obtient un unique point au croisement de ces 3 cercles : l'origine de notre séisme !\n",
    "<img src=\"seisme.png\">\n",
    "\n",
    "On considèrera que la distance $d$ est environ égale à la distance à vol d'oiseau entre la sonde et l'épicentre. Il y a 6 candidats pour l'épicentre :\n",
    "\n",
    "| Candidat | Distance Sonde 1 | Distance Sonde 2 | Distance Sonde 3 |\n",
    "|----------|------------------|------------------|------------------|\n",
    "| New York | 5800 km          | 7700 km          | 16000 km\n",
    "| Tokyo    | 9700 km          | 18500 km         | 7800 km\n",
    "| Moscou   | 2500 km          | 11800 km         | 14000 km\n",
    "| Impfondo         | 5800 km          | 7700 km          |  14000 km\n",
    "| Ninghua    | 9700 km          | 18500 km          | 7600 km\n",
    "| Quelque part au large du Groenland         | 2500 km          | 11800 km          | 16000 km"
   ]
  },
  {
   "cell_type": "markdown",
   "metadata": {},
   "source": [
    "Dans le dossier \"signaux\", vous avez les signaux enregistrés par les 3 sondes."
   ]
  },
  {
   "cell_type": "markdown",
   "metadata": {},
   "source": [
    "### <font color=\"red\"> * * * * * * * * * * * * * * * * * * * * * * * Attention : ne pas toucher aux cellules suivantes * * * * * * * * * * * * * * * * * * * * * * </font>\n",
    "\n",
    "Il s'agit de la définition des templates des ondes P et S qui vous serviront pour la suite. \n",
    "P1 et S1 correspondent aux signaux P et S avec la résolution de la sonde 1, P2 et S2 pour la sonde 2 et P3 et S3 pour la sonde 3."
   ]
  },
  {
   "cell_type": "code",
   "execution_count": null,
   "metadata": {},
   "outputs": [],
   "source": [
    "# Template des signaux P1, P2 et P3\n",
    "tmax = 15 # max time (in sec)\n",
    "tmin = 0 # min time (does not mean anything but has to be defined)\n",
    "fe = 250 # sampling frequency (in Hz)\n",
    "Te = 1/fe # sampling period (fe points per second)\n",
    "t = np.arange(tmin,tmax,Te)\n",
    "A_ref = 1\n",
    "t0 = 1.2\n",
    "f0 = 1\n",
    "P1 = A_ref*np.exp(-t/t0)*np.sin(2*np.pi*f0*t)\n",
    "fe2 = 250/2 # sampling frequency (in Hz)\n",
    "Te2 = 1/fe2 # sampling period (fe points per second)\n",
    "t2 = np.arange(tmin,tmax,Te2)\n",
    "P2 = A_ref*np.exp(-t2/t0)*np.sin(2*np.pi*f0*t2)\n",
    "fe3 = 250/4 # sampling frequency (in Hz)\n",
    "Te3 = 1/fe3 # sampling period (fe points per second)\n",
    "t3 = np.arange(tmin,tmax,Te3)\n",
    "P3 = A_ref*np.exp(-t3/t0)*np.sin(2*np.pi*f0*t3)\n",
    "# ----------------------------------\n",
    "# -------- plot that stuff ---------\n",
    "# ----------------------------------\n",
    "plt.figure(figsize=(15,6))\n",
    "plt.subplot(131)\n",
    "plt.plot(t,P1)\n",
    "plt.xlim((t.min(),t.max()))\n",
    "plt.xlabel('Time (in seconds)')\n",
    "plt.title('P1')\n",
    "plt.subplot(132)\n",
    "plt.plot(t2, P2)\n",
    "plt.xlim((t.min(),t.max()))\n",
    "plt.xlabel('Time (in seconds)')\n",
    "plt.title('P2')\n",
    "plt.subplot(133)\n",
    "plt.plot(t3, P3)\n",
    "plt.xlim((t.min(),t.max()))\n",
    "plt.xlabel('Time (in seconds)')\n",
    "plt.title('P3')\n",
    "plt.show()"
   ]
  },
  {
   "cell_type": "code",
   "execution_count": null,
   "metadata": {},
   "outputs": [],
   "source": [
    "# Template des signaux S1, S2 et S3\n",
    "tmax = 15 # max time (in sec)\n",
    "tmin = 0 # min time (does not mean anything but has to be defined)\n",
    "fe = 250 # sampling frequency (in Hz)\n",
    "Te = 1/fe # sampling period (fe points per second)\n",
    "t = np.arange(tmin,tmax,Te)\n",
    "A_ref = 1\n",
    "t0 = 1\n",
    "f0 = 1\n",
    "S1 = A_ref*np.exp(-0.5*t/t0)*np.sin(5*np.pi*f0*t)\n",
    "fe2 = 250/2 # sampling frequency (in Hz)\n",
    "Te2 = 1/fe2 # sampling period (fe points per second)\n",
    "t2 = np.arange(tmin,tmax,Te2)\n",
    "S2 = A_ref*np.exp(-0.5*t2/t0)*np.sin(5*np.pi*f0*t2)\n",
    "fe3 = 250/4 # sampling frequency (in Hz)\n",
    "Te3 = 1/fe3 # sampling period (fe points per second)\n",
    "t3 = np.arange(tmin,tmax,Te3)\n",
    "S3 = A_ref*np.exp(-0.5*t3/t0)*np.sin(5*np.pi*f0*t3)\n",
    "# ----------------------------------\n",
    "# -------- plot that stuff ---------\n",
    "# ----------------------------------\n",
    "plt.figure(figsize=(15,6))\n",
    "plt.subplot(131)\n",
    "plt.plot(t,S1)\n",
    "plt.xlim((t.min(),t.max()))\n",
    "plt.xlabel('Time (in seconds)')\n",
    "plt.title('S1')\n",
    "plt.subplot(132)\n",
    "plt.plot(t2,S2)\n",
    "plt.xlim((t.min(),t.max()))\n",
    "plt.xlabel('Time (in seconds)')\n",
    "plt.title('S2')\n",
    "plt.subplot(133)\n",
    "plt.plot(t3,S3)\n",
    "plt.xlim((t.min(),t.max()))\n",
    "plt.xlabel('Time (in seconds)')\n",
    "plt.title('S3')\n",
    "plt.show()"
   ]
  },
  {
   "cell_type": "markdown",
   "metadata": {},
   "source": [
    "### <font color=\"red\"> * * * * * * * * * * * * * * * * * * * * * * * * * * * * * * * * * * * * * * * * * * * * * * * * * * * * * * * * * * * * * * * * * * * * * * * * * * * * * * </font>"
   ]
  },
  {
   "cell_type": "markdown",
   "metadata": {},
   "source": [
    "### A vous de jouer ! \n",
    "\n",
    "<font color=\"blue\"> \n",
    "Calculez $d_1$, $d_2$ et $d_3$ à partir des signaux contenus dans le dossier \"signaux\". Retrouvez l'origine du séisme parmi les 6 candidats. </font>\n",
    "\n",
    "Faites très attention à la résolution des signaux : avec la corrélation, récupérez vos résultats en terme de nombre de points entre les deux signaux (servez-vous de [`np.argmax`](https://numpy.org/doc/stable/reference/generated/numpy.argmax.html) ), puis convertissez en secondes en fonction de la précision de la sonde. Pour Sao Paulo, 1 point = 1 seconde, facile ! Ce n'est pas le cas pour les deux autres sondes..."
   ]
  },
  {
   "cell_type": "code",
   "execution_count": null,
   "metadata": {},
   "outputs": [],
   "source": [
    "### Chargement de l'enregistrement de la sonde 1 Paris\n",
    "Sonde_1 = np.load(\"signaux/sonde1.npy\")\n",
    "plt.plot(Sonde_1,label='Sonde 1 - Paris')\n",
    "plt.xlim(0,Sonde_1.size)\n",
    "plt.legend(loc='best',fontsize=14)\n",
    "plt.show()"
   ]
  },
  {
   "cell_type": "code",
   "execution_count": null,
   "metadata": {},
   "outputs": [],
   "source": [
    "# Recherche du retard du premier signal P1 dans l'enregistrement 1\n",
    "PP1 = #... A compléter"
   ]
  },
  {
   "cell_type": "code",
   "execution_count": null,
   "metadata": {},
   "outputs": [],
   "source": [
    "# Recherche du retard du signal S1 dans l'enregistrement 1\n",
    "SS1 = #... A compléter"
   ]
  },
  {
   "cell_type": "code",
   "execution_count": null,
   "metadata": {},
   "outputs": [],
   "source": [
    "# Calcul de ts-tp en nombre de points\n",
    "#... A compléter"
   ]
  },
  {
   "cell_type": "code",
   "execution_count": null,
   "metadata": {},
   "outputs": [],
   "source": [
    "# Attention, on a un décalage en points. Or d'apres la notice de la sonde, 1 seconde = combien de points ?  \n",
    "# modifiez la valeur de ts-tp pour l'avoir en secondes... \n",
    "#... A compléter\n",
    "# Ce qui nous donne pour d :\n",
    "#... A compléter"
   ]
  },
  {
   "cell_type": "markdown",
   "metadata": {},
   "source": [
    "\n"
   ]
  },
  {
   "cell_type": "markdown",
   "metadata": {},
   "source": [
    "##### Appliquons la même procédure pour la sonde 2 :"
   ]
  },
  {
   "cell_type": "code",
   "execution_count": null,
   "metadata": {},
   "outputs": [],
   "source": [
    "### Chargement de l'enregistrement de la sonde 2 Sao Paulo\n",
    "Sonde_2 = np.load(\"signaux/sonde2.npy\")\n",
    "plt.plot(Sonde_2,label='Sonde 2 - Sao Paulo')\n",
    "plt.xlim(0,Sonde_2.size)\n",
    "plt.legend(loc='best',fontsize=14)\n",
    "plt.show()"
   ]
  },
  {
   "cell_type": "code",
   "execution_count": null,
   "metadata": {},
   "outputs": [],
   "source": [
    "PP2 = #... A compléter"
   ]
  },
  {
   "cell_type": "code",
   "execution_count": null,
   "metadata": {},
   "outputs": [],
   "source": [
    "SS2 = #... A compléter"
   ]
  },
  {
   "cell_type": "code",
   "execution_count": null,
   "metadata": {},
   "outputs": [],
   "source": [
    "# Calcul de ts-tp en nombre de points\n",
    "#... A compléter"
   ]
  },
  {
   "cell_type": "code",
   "execution_count": null,
   "metadata": {},
   "outputs": [],
   "source": [
    "# Attention, on a un décalage en points. Or d'apres la notice de la sonde, 1 seconde = combien de points ?  \n",
    "# modifiez la valeur de ts-tp pour l'avoir en secondes... \n",
    "#... A compléter\n",
    "# Ce qui nous donne pour d :\n",
    "#... A compléter"
   ]
  },
  {
   "cell_type": "code",
   "execution_count": null,
   "metadata": {},
   "outputs": [],
   "source": []
  },
  {
   "cell_type": "markdown",
   "metadata": {},
   "source": [
    "##### Et enfin la sonde 3"
   ]
  },
  {
   "cell_type": "code",
   "execution_count": null,
   "metadata": {},
   "outputs": [],
   "source": [
    "### Chargement de l'enregistrement de la sonde 3 Sidney\n",
    "Sonde_3 = np.load(\"signaux/sonde3.npy\")\n",
    "plt.plot(Sonde_3,label='Sonde 3 - Sydney')\n",
    "plt.xlim(0,Sonde_3.size)\n",
    "plt.legend(loc='best',fontsize=14)\n",
    "plt.show()"
   ]
  },
  {
   "cell_type": "code",
   "execution_count": null,
   "metadata": {},
   "outputs": [],
   "source": [
    "PP3 = #... A compléter"
   ]
  },
  {
   "cell_type": "code",
   "execution_count": null,
   "metadata": {},
   "outputs": [],
   "source": [
    "SS3 = #... A compléter"
   ]
  },
  {
   "cell_type": "code",
   "execution_count": null,
   "metadata": {},
   "outputs": [],
   "source": [
    "# Calcul de ts-tp en nombre de points\n",
    "#... A compléter"
   ]
  },
  {
   "cell_type": "code",
   "execution_count": null,
   "metadata": {},
   "outputs": [],
   "source": [
    "# Attention, on a un décalage en points. Or d'apres la notice de la sonde, 1 seconde = combien de points ?  \n",
    "# modifiez la valeur de ts-tp pour l'avoir en secondes... \n",
    "#... A compléter\n",
    "# Ce qui nous donne pour d :\n",
    "#... A compléter"
   ]
  },
  {
   "cell_type": "markdown",
   "metadata": {},
   "source": [
    "##### Quel candidat correspond aux 3 distances ?"
   ]
  },
  {
   "cell_type": "markdown",
   "metadata": {},
   "source": [
    "Réponse :"
   ]
  },
  {
   "cell_type": "markdown",
   "metadata": {},
   "source": [
    "# Partie 3 : passons à l'image maintenant !"
   ]
  },
  {
   "cell_type": "markdown",
   "metadata": {},
   "source": [
    "Jusqu'à présent, on a joué avec des signaux. C'est bien joli tout ça, mais ce qui nous intéresse maintenant c'est de s'amuser avec... des images ! \n",
    "\n",
    "On va prendre une image (au hasard, évidemment), par exemple celle-ci :<br>\n",
    "<img src=\"image_chat.jpg\">"
   ]
  },
  {
   "cell_type": "markdown",
   "metadata": {},
   "source": [
    "La convolution en 2D présente quelques subtilités avec la version 1D. En particulier, en 1D, on ne s'est pas forcément intéressés à la problématique des bords.\n",
    "\n"
   ]
  },
  {
   "cell_type": "markdown",
   "metadata": {},
   "source": [
    "Ci-dessous un exemple illustré sur une \"image\" (signal en 2D).\n",
    "\n",
    "![Alt Text](https://miro.medium.com/max/1400/1*O06nY1U7zoP4vE5AZEnxKA.gif)\n",
    "\n"
   ]
  },
  {
   "cell_type": "markdown",
   "metadata": {},
   "source": [
    "Dans cette illustration, nous avons \"l'image\" en bleu (notre signal f), le noyau de convolution (aussi appelé filtre) en orange (notre signal g), le résultat final en vert. Chaque carré de ces \"images\" est un \"pixel\".\n",
    "\n",
    "Dans cet exemple, le résultat a la même taille que l'image initiale. Chaque valeur du résultat correspond à la convolution entre l'image initiale et le noyau de convolution. Qu'est ce que ça veut dire ? La \"nouvelle valeur\" d'un pixel correspond à la somme de la multiplication terme à terme de deux matrices : celle du noyau et une sous-matrice de la même taille que le noyau, centrée sur le pixel étudié.\n",
    "\n",
    "Prenons le pixel central de l'exemple ci-dessus : le pixel \"70\". En centrant le noyau dessus, on va avoir : \n",
    "\n",
    "<font color=\"blue\"> 121</font>x<font color=\"orange\">0</font>+<font color=\"blue\">54</font>x<font color=\"orange\">(-1)</font>+<font color=\"blue\"> 84</font>x<font color=\"orange\">0</font>+<font color=\"blue\"> 99</font>x<font color=\"orange\">(-1)</font>+<font color=\"blue\">70</font>x<font color=\"orange\">5</font>+<font color=\"blue\"> 129</font>x<font color=\"orange\">(-1)</font>+<font color=\"blue\"> 57</font>x<font color=\"orange\">0</font>+<font color=\"blue\">115</font>x<font color=\"orange\">(-1)</font>+<font color=\"blue\"> 69</font>x<font color=\"orange\">0</font> = <font color=\"green\">-47</font>\n",
    "\n",
    "Que se passe-t-il aux bords ? \n",
    "La bordure blanche autour de l'image bleue représente le \"padding\". Il s'agit d'un ajout que l'on fait aux bordures pour que le noyau ne sorte pas de l'image. En effet, le noyau centré sur un pixel du bord va déborder et retourner une erreur. Pour éviter cela, on rajoute artificiellement autant de lignes et de colonnes que de débordement : c'est le \"padding\". Ici, ce \"padding\" est fait avec des 0, mais il peut également être fait avec la valeur moyenne de l'image, avec une duplication miroir des lignes et des colonnes etc. Si l'on reprend le calcul à la main sur le premier pixel de l'image, le \"60\", on a donc : \n",
    "\n",
    "<font color=\"blue\"> 0</font>x<font color=\"orange\">0</font>+<font color=\"blue\">0</font>x<font color=\"orange\">(-1)</font>+<font color=\"blue\"> 0</font>x<font color=\"orange\">0</font>+<font color=\"blue\"> 0</font>x<font color=\"orange\">(-1)</font>+<font color=\"blue\">60</font>x<font color=\"orange\">5</font>+<font color=\"blue\"> 113</font>x<font color=\"orange\">(-1)</font>+<font color=\"blue\"> 0</font>x<font color=\"orange\">0</font>+<font color=\"blue\">73</font>x<font color=\"orange\">(-1)</font>+<font color=\"blue\"> 121</font>x<font color=\"orange\">0</font> = <font color=\"green\">114</font>"
   ]
  },
  {
   "cell_type": "markdown",
   "metadata": {},
   "source": [
    "<font color=\"blue\"> **Exercice :** Recodez vous même la fonction de convolution entre l'image du chat et un noyau de taille $n\\times n$.</font>"
   ]
  },
  {
   "cell_type": "markdown",
   "metadata": {},
   "source": [
    "#### Etape 1 : convolution avec le noyau ci-dessus !\n",
    "2 parties : sur la matrice bleue (ça vous permet de vérifier votre fonction), puis sur le chat !\n",
    "\n",
    "Dans cette partie, on vous demande de recoder la fonction de convolution et de l'appliquer sur l'image-exemple bleue du dessus (vérifiez que les valeurs finales que vous obtenez correspondent bien aux valeurs de l'image verte !), puis sur l'image du chat. "
   ]
  },
  {
   "cell_type": "code",
   "execution_count": null,
   "metadata": {},
   "outputs": [],
   "source": [
    "################### NE PAS TOUCHER ##################\n",
    "# Cette cellule correspond à l'image bleue et au noyau orange\n",
    "image = np.array([[60,113,56,139,85],\n",
    "                  [73,121,54,84,128],\n",
    "                  [131,99,70,129,127],\n",
    "                  [80,57,115,69,134],\n",
    "                  [104,126,123,95,130]])\n",
    "noyau = np.zeros((3,3))\n",
    "noyau[1,:]=-1\n",
    "noyau[:,1]=-1\n",
    "noyau[1,1]=5\n",
    "######################################################"
   ]
  },
  {
   "cell_type": "code",
   "execution_count": null,
   "metadata": {},
   "outputs": [],
   "source": [
    "def ma_conv_img(input_image, input_noyau):\n",
    "    #Commencez par le padding\n",
    "    image_pad = #... A compléter\n",
    "    #Puis faites glisser le noyau sur l'image et calculez le résultat de convolution\n",
    "    for i in range(#... A compléter):\n",
    "        for j in range(#... A compléter):\n",
    "            #... A compléter\n",
    "            #... A compléter\n",
    "            #... A compléter\n",
    "    return(#... A compléter)\n",
    "\n",
    "ma_conv_img(image, noyau)"
   ]
  },
  {
   "cell_type": "markdown",
   "metadata": {},
   "source": [
    "##### Image du chat\n",
    "On va maintenant appliquer cette fonction de convolution à l'image \"image_chat.jpg\". Une image couleur, c'est en fait 3 grilles de pixels : une pour le canal rouge, une pour le canal vert et une pour le canal bleu (les fameuses images \"RGB\"). Les valeurs d'un pixel dans chaque canal permettent de générer la couleur voulue à partir du rouge/vert/bleu qui sont l'équivalent des couleurs primaires en peinture. Observez les différences entre les canaux (en particulier le mur au fond à droite)."
   ]
  },
  {
   "cell_type": "code",
   "execution_count": null,
   "metadata": {
    "scrolled": false
   },
   "outputs": [],
   "source": [
    "image_cat = sk.io.imread('image_chat.jpg')\n",
    "plt.figure(figsize=(15,10))\n",
    "plt.subplot(231)\n",
    "plt.imshow(image_cat[:,:,0], cmap ='gray')\n",
    "plt.title('Rouge')\n",
    "plt.subplot(232)\n",
    "plt.imshow(image_cat[:,:,1], cmap ='gray')\n",
    "plt.title('Vert')\n",
    "plt.subplot(233)\n",
    "plt.imshow(image_cat[:,:,2], cmap ='gray')\n",
    "plt.title('Bleu')\n",
    "plt.subplot(235)\n",
    "plt.imshow(image_cat)\n",
    "plt.title('Couleur')\n",
    "plt.show()"
   ]
  },
  {
   "cell_type": "markdown",
   "metadata": {},
   "source": [
    "Pour la suite, on va juste utiliser le canal vert pour l'exemple.\n",
    "\n",
    "<font color=\"blue\"> Appliquez votre fonction de convolution avec le noyau précédent sur le canal vert. Que remarquez-vous ?</font>"
   ]
  },
  {
   "cell_type": "code",
   "execution_count": null,
   "metadata": {},
   "outputs": [],
   "source": [
    "img_chat_convol = #... A compléter"
   ]
  },
  {
   "cell_type": "markdown",
   "metadata": {},
   "source": [
    "Ici, ce n'est pas un exemple très intéressant. Regardons ce qu'il se passe si on modifie le noyau ...\n",
    "#### Petite vérification avant de continuer...\n",
    "On se souvient que lors de la convolution, le 2e signal (ici notre noyau), doit subir un petit \"flip\". Or nous n'avons vu qu'un noyau symétrique. Que se passe-t-il avec un noyau assymétrique ? Nous allons vérifier ça tout de suite à l'aide de \"noyau2\"."
   ]
  },
  {
   "cell_type": "code",
   "execution_count": null,
   "metadata": {},
   "outputs": [],
   "source": [
    "noyau2 = np.zeros((3,3))\n",
    "noyau2[0:3,2]=-1\n",
    "noyau2[0:3,0]=1\n",
    "noyau2"
   ]
  },
  {
   "cell_type": "markdown",
   "metadata": {},
   "source": [
    "<font color=\"blue\"> Appliquez votre fonction de convolution avec noyau2. Comparez au résultat de sp.signal.convolve avec le même noyau.</font>\n",
    "Regardez surtout les zones noires et blanches des oreilles des chiens : sont-elles au même endroit ?"
   ]
  },
  {
   "cell_type": "code",
   "execution_count": null,
   "metadata": {},
   "outputs": [],
   "source": [
    "avec_convol = #... A compléter\n",
    "avec_scipy = #... A compléter\n",
    "plt.figure(figsize=(15,6))\n",
    "plt.subplot(121)\n",
    "plt.imshow(avec_convol, cmap = 'gray')\n",
    "plt.title('ma convolution')\n",
    "plt.subplot(122)\n",
    "plt.imshow(avec_scipy, cmap = 'gray')\n",
    "plt.title('Scipy')\n",
    "plt.show()"
   ]
  },
  {
   "cell_type": "markdown",
   "metadata": {},
   "source": [
    "#### Etape 2 : on va maintenant utiliser votre fonction pour faire un filtre moyenneur de taille $3 \\times 3$...\n",
    "\n",
    "Pour faire un filtre moyenneur, il faut faire un noyau...moyenneur ! Rappel, la moyenne est la somme de termes divisée par le nombre de termes. Ca ne ressemble pas un peu à la convolution ?\n",
    "\n",
    "Testez dans un premier temps sur l'image-jouet (\"l'image bleue\" du début, celle de l'animation) pour vérifier vos valeurs, puis sur l'image du chat. Que remarquez-vous sur l'image du chat ? \n"
   ]
  },
  {
   "cell_type": "code",
   "execution_count": null,
   "metadata": {},
   "outputs": [],
   "source": [
    "noyau_moy = #... A compléter"
   ]
  },
  {
   "cell_type": "code",
   "execution_count": null,
   "metadata": {},
   "outputs": [],
   "source": []
  },
  {
   "cell_type": "markdown",
   "metadata": {},
   "source": [
    "##### Et le chat ?"
   ]
  },
  {
   "cell_type": "code",
   "execution_count": null,
   "metadata": {},
   "outputs": [],
   "source": [
    "conv_moy_cat = #... A compléter"
   ]
  },
  {
   "cell_type": "code",
   "execution_count": null,
   "metadata": {},
   "outputs": [],
   "source": [
    "plt.figure(figsize=(15,10))\n",
    "plt.subplot(121)\n",
    "plt.imshow(image_cat[:,:,1], cmap ='gray')\n",
    "plt.title('Canal vert')\n",
    "plt.subplot(122)\n",
    "plt.imshow(conv_moy_cat, cmap ='gray')\n",
    "plt.title('Résultat de la convolution 3x3')\n",
    "plt.show()"
   ]
  },
  {
   "cell_type": "markdown",
   "metadata": {},
   "source": [
    "#### ... puis de taille $5 \\times 5$ uniquement sur le chat ..."
   ]
  },
  {
   "cell_type": "code",
   "execution_count": null,
   "metadata": {},
   "outputs": [],
   "source": [
    "#... A compléter"
   ]
  },
  {
   "cell_type": "code",
   "execution_count": null,
   "metadata": {},
   "outputs": [],
   "source": [
    "#... A compléter"
   ]
  },
  {
   "cell_type": "code",
   "execution_count": null,
   "metadata": {},
   "outputs": [],
   "source": [
    "#... A compléter"
   ]
  },
  {
   "cell_type": "markdown",
   "metadata": {},
   "source": [
    "#### ... puis de taille $9 \\times 9$ uniquement sur le chat ..."
   ]
  },
  {
   "cell_type": "code",
   "execution_count": null,
   "metadata": {},
   "outputs": [],
   "source": [
    "#... A compléter"
   ]
  },
  {
   "cell_type": "code",
   "execution_count": null,
   "metadata": {},
   "outputs": [],
   "source": [
    "#... A compléter"
   ]
  },
  {
   "cell_type": "code",
   "execution_count": null,
   "metadata": {},
   "outputs": [],
   "source": [
    "#... A compléter"
   ]
  },
  {
   "cell_type": "markdown",
   "metadata": {},
   "source": [
    "#### Que remarquez-vous ? "
   ]
  },
  {
   "cell_type": "code",
   "execution_count": null,
   "metadata": {},
   "outputs": [],
   "source": []
  },
  {
   "cell_type": "markdown",
   "metadata": {},
   "source": [
    "#### Pouvez vous faire de même pour un filtre médian de taille $3 \\times 3$? "
   ]
  },
  {
   "cell_type": "code",
   "execution_count": null,
   "metadata": {},
   "outputs": [],
   "source": []
  }
 ],
 "metadata": {
  "kernelspec": {
   "display_name": "Python 3 (ipykernel)",
   "language": "python",
   "name": "python3"
  },
  "language_info": {
   "codemirror_mode": {
    "name": "ipython",
    "version": 3
   },
   "file_extension": ".py",
   "mimetype": "text/x-python",
   "name": "python",
   "nbconvert_exporter": "python",
   "pygments_lexer": "ipython3",
   "version": "3.9.13"
  }
 },
 "nbformat": 4,
 "nbformat_minor": 2
}
